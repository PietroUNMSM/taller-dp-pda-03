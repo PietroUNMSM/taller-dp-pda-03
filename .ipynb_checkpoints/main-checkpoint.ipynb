{
 "cells": [
  {
   "cell_type": "markdown",
   "metadata": {},
   "source": [
    "# main.ipynb"
   ]
  },
  {
   "cell_type": "markdown",
   "metadata": {},
   "source": [
    "## modules"
   ]
  },
  {
   "cell_type": "markdown",
   "metadata": {},
   "source": [
    "### common"
   ]
  },
  {
   "cell_type": "code",
   "execution_count": 4,
   "metadata": {},
   "outputs": [],
   "source": [
    "import os\n",
    "import shutil\n",
    "import json\n",
    "from uuid import uuid4\n",
    "from pathlib import Path"
   ]
  },
  {
   "cell_type": "markdown",
   "metadata": {},
   "source": [
    "### requirements"
   ]
  },
  {
   "cell_type": "code",
   "execution_count": 6,
   "metadata": {},
   "outputs": [
    {
     "name": "stdout",
     "output_type": "stream",
     "text": [
      "Collecting requests\n",
      "  Using cached requests-2.27.1-py2.py3-none-any.whl (63 kB)\n",
      "Collecting charset-normalizer~=2.0.0\n",
      "  Using cached charset_normalizer-2.0.12-py3-none-any.whl (39 kB)\n",
      "Collecting urllib3<1.27,>=1.21.1\n",
      "  Downloading urllib3-1.26.9-py2.py3-none-any.whl (138 kB)\n",
      "Collecting idna<4,>=2.5\n",
      "  Using cached idna-3.3-py3-none-any.whl (61 kB)\n",
      "Requirement already satisfied: certifi>=2017.4.17 in c:\\users\\piero\\miniconda3\\envs\\tallerp\\lib\\site-packages (from requests) (2022.5.18.1)\n",
      "Installing collected packages: urllib3, idna, charset-normalizer, requests\n",
      "Successfully installed charset-normalizer-2.0.12 idna-3.3 requests-2.27.1 urllib3-1.26.9\n"
     ]
    }
   ],
   "source": [
    "!pip3 install requests"
   ]
  },
  {
   "cell_type": "code",
   "execution_count": 8,
   "metadata": {},
   "outputs": [
    {
     "name": "stdout",
     "output_type": "stream",
     "text": [
      "Collecting pendulum\n",
      "  Downloading pendulum-2.1.2.tar.gz (81 kB)\n",
      "  Installing build dependencies: started\n",
      "  Installing build dependencies: finished with status 'done'\n",
      "  Getting requirements to build wheel: started\n",
      "  Getting requirements to build wheel: finished with status 'done'\n",
      "    Preparing wheel metadata: started\n",
      "    Preparing wheel metadata: finished with status 'done'\n",
      "Collecting pytzdata>=2020.1\n",
      "  Downloading pytzdata-2020.1-py2.py3-none-any.whl (489 kB)\n",
      "Requirement already satisfied: python-dateutil<3.0,>=2.6 in c:\\users\\piero\\miniconda3\\envs\\tallerp\\lib\\site-packages (from pendulum) (2.8.2)\n",
      "Requirement already satisfied: six>=1.5 in c:\\users\\piero\\miniconda3\\envs\\tallerp\\lib\\site-packages (from python-dateutil<3.0,>=2.6->pendulum) (1.16.0)\n",
      "Building wheels for collected packages: pendulum\n",
      "  Building wheel for pendulum (PEP 517): started\n",
      "  Building wheel for pendulum (PEP 517): finished with status 'done'\n",
      "  Created wheel for pendulum: filename=pendulum-2.1.2-cp39-cp39-win_amd64.whl size=109761 sha256=6b8d04e24936df3553b4d32b2b764c5ca1a748c509b6b1dca94f9c5552a939a7\n",
      "  Stored in directory: c:\\users\\piero\\appdata\\local\\pip\\cache\\wheels\\c9\\c7\\29\\3cf0033406b18958d1a7b107c38be2405ef9c081b64a264fd5\n",
      "Successfully built pendulum\n",
      "Installing collected packages: pytzdata, pendulum\n",
      "Successfully installed pendulum-2.1.2 pytzdata-2020.1\n"
     ]
    }
   ],
   "source": [
    "!pip3 install pendulum"
   ]
  },
  {
   "cell_type": "code",
   "execution_count": 10,
   "metadata": {},
   "outputs": [
    {
     "name": "stdout",
     "output_type": "stream",
     "text": [
      "Collecting pandas\n",
      "  Downloading pandas-1.4.2-cp39-cp39-win_amd64.whl (10.5 MB)\n",
      "Requirement already satisfied: python-dateutil>=2.8.1 in c:\\users\\piero\\miniconda3\\envs\\tallerp\\lib\\site-packages (from pandas) (2.8.2)\n",
      "Collecting numpy>=1.18.5\n",
      "  Downloading numpy-1.22.4-cp39-cp39-win_amd64.whl (14.7 MB)\n",
      "Collecting pytz>=2020.1\n",
      "  Downloading pytz-2022.1-py2.py3-none-any.whl (503 kB)\n",
      "Requirement already satisfied: six>=1.5 in c:\\users\\piero\\miniconda3\\envs\\tallerp\\lib\\site-packages (from python-dateutil>=2.8.1->pandas) (1.16.0)\n",
      "Installing collected packages: pytz, numpy, pandas\n",
      "Successfully installed numpy-1.22.4 pandas-1.4.2 pytz-2022.1\n"
     ]
    }
   ],
   "source": [
    "!pip3 install pandas"
   ]
  },
  {
   "cell_type": "code",
   "execution_count": 11,
   "metadata": {},
   "outputs": [
    {
     "name": "stdout",
     "output_type": "stream",
     "text": [
      "Collecting fire\n",
      "  Downloading fire-0.4.0.tar.gz (87 kB)\n",
      "Requirement already satisfied: six in c:\\users\\piero\\miniconda3\\envs\\tallerp\\lib\\site-packages (from fire) (1.16.0)\n",
      "Collecting termcolor\n",
      "  Downloading termcolor-1.1.0.tar.gz (3.9 kB)\n",
      "Building wheels for collected packages: fire, termcolor\n",
      "  Building wheel for fire (setup.py): started\n",
      "  Building wheel for fire (setup.py): finished with status 'done'\n",
      "  Created wheel for fire: filename=fire-0.4.0-py2.py3-none-any.whl size=115942 sha256=56f496767481003e7b9a544c902db60c9e91da29b2ccb42922385b35e84e0b56\n",
      "  Stored in directory: c:\\users\\piero\\appdata\\local\\pip\\cache\\wheels\\2a\\93\\86\\8cd17bc6c40fb605c3ac549d0b860ef7e84ee5f67bf01a3287\n",
      "  Building wheel for termcolor (setup.py): started\n",
      "  Building wheel for termcolor (setup.py): finished with status 'done'\n",
      "  Created wheel for termcolor: filename=termcolor-1.1.0-py3-none-any.whl size=4848 sha256=5d4f93cade6297c2534ca6a6f48053684a24d520c0ed8e8429b20c1559ee06da\n",
      "  Stored in directory: c:\\users\\piero\\appdata\\local\\pip\\cache\\wheels\\b6\\0d\\90\\0d1bbd99855f99cb2f6c2e5ff96f8023fad8ec367695f7d72d\n",
      "Successfully built fire termcolor\n",
      "Installing collected packages: termcolor, fire\n",
      "Successfully installed fire-0.4.0 termcolor-1.1.0\n"
     ]
    }
   ],
   "source": [
    "!pip3 install fire"
   ]
  },
  {
   "cell_type": "code",
   "execution_count": 12,
   "metadata": {},
   "outputs": [],
   "source": [
    "import requests\n",
    "import pendulum\n",
    "import pandas as pd\n",
    "import fire"
   ]
  },
  {
   "cell_type": "markdown",
   "metadata": {},
   "source": [
    "## 1. pendulum"
   ]
  },
  {
   "cell_type": "code",
   "execution_count": 13,
   "metadata": {},
   "outputs": [],
   "source": [
    "# > variables\n",
    "region_city: str = 'America/Lima'"
   ]
  },
  {
   "cell_type": "code",
   "execution_count": 14,
   "metadata": {},
   "outputs": [
    {
     "name": "stdout",
     "output_type": "stream",
     "text": [
      "2022-05-28 --- America/Lima\n"
     ]
    }
   ],
   "source": [
    "c_date = pendulum.now(rc := region_city).to_date_string()\n",
    "\n",
    "print(c_date, '---', rc)"
   ]
  },
  {
   "cell_type": "markdown",
   "metadata": {},
   "source": [
    "## 2. requests"
   ]
  },
  {
   "cell_type": "code",
   "execution_count": 15,
   "metadata": {},
   "outputs": [],
   "source": [
    "# > variables\n",
    "serie = 'PM04902AA'\n",
    "api_url = f'https://estadisticas.bcrp.gob.pe/estadisticas/series/api/{serie}/json/2020/2022/'\n",
    "headers = {'Content-Type': 'application/json'}"
   ]
  },
  {
   "cell_type": "code",
   "execution_count": 17,
   "metadata": {},
   "outputs": [],
   "source": [
    "# > request + try-except\n",
    "try:\n",
    "    response = requests.get(url=api_url, headers=headers, timeout=60)\n",
    "    response.encoding = 'utf-8'\n",
    "    api_data = json.loads(response.text)\n",
    "    \n",
    "    #error #ejemplo de variable no definida para forzar error\n",
    "except Exception as e:\n",
    "    print('[INFO] something went wrong...')\n",
    "    raise #levanta el error anterior en try\n",
    "\n",
    "#print(\"passed\")"
   ]
  },
  {
   "cell_type": "code",
   "execution_count": 18,
   "metadata": {},
   "outputs": [
    {
     "name": "stdout",
     "output_type": "stream",
     "text": [
      "{\n",
      "  \"config\": {\n",
      "    \"title\": \"Ingreso nacional disponible (millones S/ 2007)\",\n",
      "    \"series\": [\n",
      "      {\n",
      "        \"name\": \"Ingreso nacional disponible (millones S/ 2007) - Renta de Factores\",\n",
      "        \"dec\": \"0\"\n",
      "      }\n",
      "    ]\n",
      "  },\n",
      "  \"periods\": [\n",
      "    {\n",
      "      \"name\": \"2020\",\n",
      "      \"values\": [\n",
      "        \"-14748.8775165815\"\n",
      "      ]\n",
      "    },\n",
      "    {\n",
      "      \"name\": \"2021\",\n",
      "      \"values\": [\n",
      "        \"-46048.2056891399\"\n",
      "      ]\n",
      "    }\n",
      "  ]\n",
      "}\n"
     ]
    }
   ],
   "source": [
    "print(json.dumps(api_data, indent=2))"
   ]
  },
  {
   "cell_type": "markdown",
   "metadata": {},
   "source": [
    "## 3. pandas: dataframes"
   ]
  },
  {
   "cell_type": "code",
   "execution_count": 19,
   "metadata": {},
   "outputs": [],
   "source": [
    "# > variables\n",
    "record_path = 'periods'\n",
    "columnas = {'name': 'YEAR', 'values': serie.upper()}"
   ]
  },
  {
   "cell_type": "code",
   "execution_count": 20,
   "metadata": {},
   "outputs": [
    {
     "data": {
      "text/html": [
       "<div>\n",
       "<style scoped>\n",
       "    .dataframe tbody tr th:only-of-type {\n",
       "        vertical-align: middle;\n",
       "    }\n",
       "\n",
       "    .dataframe tbody tr th {\n",
       "        vertical-align: top;\n",
       "    }\n",
       "\n",
       "    .dataframe thead th {\n",
       "        text-align: right;\n",
       "    }\n",
       "</style>\n",
       "<table border=\"1\" class=\"dataframe\">\n",
       "  <thead>\n",
       "    <tr style=\"text-align: right;\">\n",
       "      <th></th>\n",
       "      <th>name</th>\n",
       "      <th>values</th>\n",
       "    </tr>\n",
       "  </thead>\n",
       "  <tbody>\n",
       "    <tr>\n",
       "      <th>0</th>\n",
       "      <td>2020</td>\n",
       "      <td>[-14748.8775165815]</td>\n",
       "    </tr>\n",
       "    <tr>\n",
       "      <th>1</th>\n",
       "      <td>2021</td>\n",
       "      <td>[-46048.2056891399]</td>\n",
       "    </tr>\n",
       "  </tbody>\n",
       "</table>\n",
       "</div>"
      ],
      "text/plain": [
       "   name               values\n",
       "0  2020  [-14748.8775165815]\n",
       "1  2021  [-46048.2056891399]"
      ]
     },
     "execution_count": 20,
     "metadata": {},
     "output_type": "execute_result"
    }
   ],
   "source": [
    "# > pandas from json\n",
    "df = pd.json_normalize(api_data, record_path=record_path)\n",
    "\n",
    "df.head()"
   ]
  },
  {
   "cell_type": "code",
   "execution_count": 21,
   "metadata": {},
   "outputs": [
    {
     "data": {
      "text/html": [
       "<div>\n",
       "<style scoped>\n",
       "    .dataframe tbody tr th:only-of-type {\n",
       "        vertical-align: middle;\n",
       "    }\n",
       "\n",
       "    .dataframe tbody tr th {\n",
       "        vertical-align: top;\n",
       "    }\n",
       "\n",
       "    .dataframe thead th {\n",
       "        text-align: right;\n",
       "    }\n",
       "</style>\n",
       "<table border=\"1\" class=\"dataframe\">\n",
       "  <thead>\n",
       "    <tr style=\"text-align: right;\">\n",
       "      <th></th>\n",
       "      <th>YEAR</th>\n",
       "      <th>PM04902AA</th>\n",
       "    </tr>\n",
       "  </thead>\n",
       "  <tbody>\n",
       "    <tr>\n",
       "      <th>0</th>\n",
       "      <td>2020</td>\n",
       "      <td>[-14748.8775165815]</td>\n",
       "    </tr>\n",
       "    <tr>\n",
       "      <th>1</th>\n",
       "      <td>2021</td>\n",
       "      <td>[-46048.2056891399]</td>\n",
       "    </tr>\n",
       "  </tbody>\n",
       "</table>\n",
       "</div>"
      ],
      "text/plain": [
       "   YEAR            PM04902AA\n",
       "0  2020  [-14748.8775165815]\n",
       "1  2021  [-46048.2056891399]"
      ]
     },
     "execution_count": 21,
     "metadata": {},
     "output_type": "execute_result"
    }
   ],
   "source": [
    "# > pandas rename column\n",
    "df = df.rename(columns=columnas)\n",
    "\n",
    "df.head()"
   ]
  },
  {
   "cell_type": "code",
   "execution_count": 22,
   "metadata": {},
   "outputs": [
    {
     "data": {
      "text/html": [
       "<div>\n",
       "<style scoped>\n",
       "    .dataframe tbody tr th:only-of-type {\n",
       "        vertical-align: middle;\n",
       "    }\n",
       "\n",
       "    .dataframe tbody tr th {\n",
       "        vertical-align: top;\n",
       "    }\n",
       "\n",
       "    .dataframe thead th {\n",
       "        text-align: right;\n",
       "    }\n",
       "</style>\n",
       "<table border=\"1\" class=\"dataframe\">\n",
       "  <thead>\n",
       "    <tr style=\"text-align: right;\">\n",
       "      <th></th>\n",
       "      <th>YEAR</th>\n",
       "      <th>PM04902AA</th>\n",
       "    </tr>\n",
       "  </thead>\n",
       "  <tbody>\n",
       "    <tr>\n",
       "      <th>0</th>\n",
       "      <td>2020</td>\n",
       "      <td>-14748.877517</td>\n",
       "    </tr>\n",
       "    <tr>\n",
       "      <th>1</th>\n",
       "      <td>2021</td>\n",
       "      <td>-46048.205689</td>\n",
       "    </tr>\n",
       "  </tbody>\n",
       "</table>\n",
       "</div>"
      ],
      "text/plain": [
       "   YEAR     PM04902AA\n",
       "0  2020 -14748.877517\n",
       "1  2021 -46048.205689"
      ]
     },
     "execution_count": 22,
     "metadata": {},
     "output_type": "execute_result"
    }
   ],
   "source": [
    "# > pandas format\n",
    "df[serie] = df[serie].str[0].astype('float')\n",
    "\n",
    "df.head()"
   ]
  },
  {
   "cell_type": "code",
   "execution_count": 24,
   "metadata": {},
   "outputs": [
    {
     "data": {
      "text/plain": [
       "array([['2020', -14748.8775165815],\n",
       "       ['2021', -46048.2056891399]], dtype=object)"
      ]
     },
     "execution_count": 24,
     "metadata": {},
     "output_type": "execute_result"
    }
   ],
   "source": [
    "#valores originales de pandas previo al formato\n",
    "df.values"
   ]
  },
  {
   "cell_type": "markdown",
   "metadata": {},
   "source": [
    "## 4. pandas: exporting data"
   ]
  },
  {
   "cell_type": "code",
   "execution_count": null,
   "metadata": {},
   "outputs": [],
   "source": [
    "# > variables\n",
    "curr_date = c_date\n",
    "exec_uuid = str(uuid4())\n",
    "s = serie\n",
    "\n",
    "save_path = f'./data/current/{curr_date}/{exec_uuid}/{s}.csv'\n",
    "\n",
    "print(save_path)"
   ]
  },
  {
   "cell_type": "code",
   "execution_count": null,
   "metadata": {
    "collapsed": true
   },
   "outputs": [],
   "source": []
  },
  {
   "cell_type": "code",
   "execution_count": null,
   "metadata": {},
   "outputs": [],
   "source": [
    "# > split save path\n",
    "save_folder = '/'.join(save_path.split('/')[:-1])\n",
    "\n",
    "print(save_folder)"
   ]
  },
  {
   "cell_type": "code",
   "execution_count": null,
   "metadata": {},
   "outputs": [],
   "source": [
    "# > make save directory if not exists\n",
    "Path(save_folder).mkdir(parents=True, exist_ok=True)"
   ]
  },
  {
   "cell_type": "code",
   "execution_count": null,
   "metadata": {},
   "outputs": [],
   "source": [
    "# > export data from dataframe to csv\n",
    "dfc = df.copy(deep=True)\n",
    "dfc.to_csv(save_path, sep=';', encoding='iso-8859-1', index=False)"
   ]
  },
  {
   "cell_type": "markdown",
   "metadata": {},
   "source": [
    "## 5. main scenario"
   ]
  },
  {
   "cell_type": "markdown",
   "metadata": {},
   "source": [
    "### 5.1. multiple solicitudes"
   ]
  },
  {
   "cell_type": "code",
   "execution_count": null,
   "metadata": {},
   "outputs": [],
   "source": [
    "# > fixed\n",
    "series = ['PM04901AA', 'PM04902AA', 'PM04903AA', 'PM04904AA', 'PM04905AA', 'PM04906AA', 'PM04907AA']\n",
    "exec_uuid = str(uuid4())\n",
    "\n",
    "for serie in series:\n",
    "    # > variables\n",
    "    api_url = f'https://estadisticas.bcrp.gob.pe/estadisticas/series/api/{serie}/json/2020/2022/'\n",
    "    headers = {'Content-Type': 'application/json'}\n",
    "    \n",
    "    # > request + try-except\n",
    "    try:\n",
    "        response = requests.get(url=api_url, headers=headers, timeout=60)\n",
    "        response.encoding = 'utf-8'\n",
    "        api_data = json.loads(response.text)\n",
    "    except Exception as e:\n",
    "        print('[INFO] something went wrong...')\n",
    "        raise\n",
    "    \n",
    "    # > variables\n",
    "    record_path = 'periods'\n",
    "    columnas = {'name': 'YEAR', 'values': serie.upper()}\n",
    "    \n",
    "    # > pandas from json\n",
    "    df = pd.json_normalize(api_data, record_path=record_path)\n",
    "    df = df.rename(columns=columnas)\n",
    "    df[serie] = df[serie].str[0].astype('float')\n",
    "    \n",
    "    # > variables\n",
    "    curr_date = c_date\n",
    "    s = serie\n",
    "    save_path = f'./data/current/{curr_date}/{exec_uuid}/{s}.csv'\n",
    "    \n",
    "    # > split save path\n",
    "    save_folder = '/'.join(save_path.split('/')[:-1])\n",
    "    \n",
    "    # > make save directory if not exists\n",
    "    Path(save_folder).mkdir(parents=True, exist_ok=True)\n",
    "    \n",
    "    # > export data from dataframe to csv\n",
    "    dfc = df.copy(deep=True)\n",
    "    dfc.to_csv(save_path, sep=';', encoding='iso-8859-1', index=False)"
   ]
  },
  {
   "cell_type": "markdown",
   "metadata": {},
   "source": [
    "### 5.2. dataframe auxiliar"
   ]
  },
  {
   "cell_type": "code",
   "execution_count": null,
   "metadata": {},
   "outputs": [],
   "source": [
    "# > variables\n",
    "curr_date = c_date ; year = curr_date.split('-')[0]\n",
    "read_path = '/'.join(save_path.split('/')[:-1])"
   ]
  },
  {
   "cell_type": "code",
   "execution_count": null,
   "metadata": {},
   "outputs": [],
   "source": [
    "# > dataframe dummy\n",
    "tdf = pd.DataFrame({'YEAR': range(1940, int(year)+1), 'LOAD_DATE': curr_date})\n",
    "tdf = tdf.set_index('YEAR')\n",
    "\n",
    "tdf.head()"
   ]
  },
  {
   "cell_type": "code",
   "execution_count": null,
   "metadata": {},
   "outputs": [],
   "source": [
    "# > elementos a juntar\n",
    "files = os.listdir(read_path)\n",
    "for f in files:\n",
    "    print(f)"
   ]
  },
  {
   "cell_type": "code",
   "execution_count": null,
   "metadata": {},
   "outputs": [],
   "source": [
    "# > complete table\n",
    "files = os.listdir(read_path)\n",
    "for f in files:\n",
    "    df = pd.read_csv(f'{read_path}/{f}', sep=';', encoding='iso-8859-1')\n",
    "    df = df.set_index('YEAR')\n",
    "    tdf = tdf.join(df)"
   ]
  },
  {
   "cell_type": "code",
   "execution_count": null,
   "metadata": {},
   "outputs": [],
   "source": [
    "# > nulos por dummy table\n",
    "print(tdf.isna().sum())\n",
    "tdf.head()"
   ]
  },
  {
   "cell_type": "code",
   "execution_count": null,
   "metadata": {},
   "outputs": [],
   "source": [
    "# > reset index + drop nulos\n",
    "tdf = tdf.reset_index()\n",
    "tdf = tdf.dropna(subset=tdf.columns[2:])"
   ]
  },
  {
   "cell_type": "code",
   "execution_count": null,
   "metadata": {},
   "outputs": [],
   "source": [
    "# > output\n",
    "print(tdf.isna().sum())\n",
    "tdf.head()"
   ]
  },
  {
   "cell_type": "markdown",
   "metadata": {},
   "source": [
    "### 5.3. exportar datos"
   ]
  },
  {
   "cell_type": "code",
   "execution_count": null,
   "metadata": {},
   "outputs": [],
   "source": [
    "# > variables\n",
    "export_path = f'./data/output/{curr_date}/output_{exec_uuid}.csv'\n",
    "save_folder = '/'.join(export_path.split('/')[:-1])\n",
    "sep = '|'\n",
    "encoding='iso-8859-1'"
   ]
  },
  {
   "cell_type": "code",
   "execution_count": null,
   "metadata": {},
   "outputs": [],
   "source": [
    "# > export full table\n",
    "Path(save_folder).mkdir(parents=True, exist_ok=True)\n",
    "df.to_csv(export_path, sep=sep, encoding=encoding, index=False)"
   ]
  },
  {
   "cell_type": "code",
   "execution_count": null,
   "metadata": {},
   "outputs": [],
   "source": [
    "# > move current to historic\n",
    "current_path = read_path\n",
    "historic_path = read_path.replace('current', 'historic')\n",
    "shutil.move(current_path, historic_path)"
   ]
  },
  {
   "cell_type": "code",
   "execution_count": null,
   "metadata": {},
   "outputs": [],
   "source": []
  }
 ],
 "metadata": {
  "interpreter": {
   "hash": "0d24f6c4d3e56b3cfda2eb0216e9cf75edcc90598732a5fefacbf5cbcdb25b14"
  },
  "kernelspec": {
   "display_name": "Python 3 (ipykernel)",
   "language": "python",
   "name": "python3"
  },
  "language_info": {
   "codemirror_mode": {
    "name": "ipython",
    "version": 3
   },
   "file_extension": ".py",
   "mimetype": "text/x-python",
   "name": "python",
   "nbconvert_exporter": "python",
   "pygments_lexer": "ipython3",
   "version": "3.9.12"
  }
 },
 "nbformat": 4,
 "nbformat_minor": 2
}
